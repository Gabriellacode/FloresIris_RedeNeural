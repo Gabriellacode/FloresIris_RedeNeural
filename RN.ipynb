{
  "cells": [
    {
      "cell_type": "markdown",
      "id": "3c0689eb",
      "metadata": {
        "id": "3c0689eb"
      },
      "source": [
        "# Importando bibliotecas"
      ]
    },
    {
      "cell_type": "code",
      "execution_count": 1,
      "id": "a84c12dc",
      "metadata": {
        "id": "a84c12dc"
      },
      "outputs": [],
      "source": [
        "import pandas as pd\n",
        "import numpy as np\n",
        "\n",
        "import tensorflow as tf"
      ]
    },
    {
      "cell_type": "markdown",
      "id": "01015b3d",
      "metadata": {
        "id": "01015b3d"
      },
      "source": [
        "# Carregando e Preparando o DataSet"
      ]
    },
    {
      "cell_type": "code",
      "execution_count": 2,
      "id": "8ce8fc01",
      "metadata": {
        "id": "8ce8fc01"
      },
      "outputs": [],
      "source": [
        "df = pd.read_csv('/content/IRIS.csv')"
      ]
    },
    {
      "cell_type": "code",
      "execution_count": 3,
      "id": "c45d823d",
      "metadata": {
        "id": "c45d823d",
        "colab": {
          "base_uri": "https://localhost:8080/",
          "height": 237
        },
        "outputId": "ee84411e-aa1d-49e2-bded-30032130b0b7"
      },
      "outputs": [
        {
          "output_type": "execute_result",
          "data": {
            "text/plain": [
              "   sepal_length  sepal_width  petal_length  petal_width      species\n",
              "0           5.1          3.5           1.4          0.2  Iris-setosa\n",
              "1           4.9          3.0           1.4          0.2  Iris-setosa\n",
              "2           4.7          3.2           1.3          0.2  Iris-setosa\n",
              "3           4.6          3.1           1.5          0.2  Iris-setosa\n",
              "4           5.0          3.6           1.4          0.2  Iris-setosa\n",
              "5           5.4          3.9           1.7          0.4  Iris-setosa"
            ],
            "text/html": [
              "\n",
              "  <div id=\"df-ffed9931-4022-45fb-88c3-6d5671f240c1\" class=\"colab-df-container\">\n",
              "    <div>\n",
              "<style scoped>\n",
              "    .dataframe tbody tr th:only-of-type {\n",
              "        vertical-align: middle;\n",
              "    }\n",
              "\n",
              "    .dataframe tbody tr th {\n",
              "        vertical-align: top;\n",
              "    }\n",
              "\n",
              "    .dataframe thead th {\n",
              "        text-align: right;\n",
              "    }\n",
              "</style>\n",
              "<table border=\"1\" class=\"dataframe\">\n",
              "  <thead>\n",
              "    <tr style=\"text-align: right;\">\n",
              "      <th></th>\n",
              "      <th>sepal_length</th>\n",
              "      <th>sepal_width</th>\n",
              "      <th>petal_length</th>\n",
              "      <th>petal_width</th>\n",
              "      <th>species</th>\n",
              "    </tr>\n",
              "  </thead>\n",
              "  <tbody>\n",
              "    <tr>\n",
              "      <th>0</th>\n",
              "      <td>5.1</td>\n",
              "      <td>3.5</td>\n",
              "      <td>1.4</td>\n",
              "      <td>0.2</td>\n",
              "      <td>Iris-setosa</td>\n",
              "    </tr>\n",
              "    <tr>\n",
              "      <th>1</th>\n",
              "      <td>4.9</td>\n",
              "      <td>3.0</td>\n",
              "      <td>1.4</td>\n",
              "      <td>0.2</td>\n",
              "      <td>Iris-setosa</td>\n",
              "    </tr>\n",
              "    <tr>\n",
              "      <th>2</th>\n",
              "      <td>4.7</td>\n",
              "      <td>3.2</td>\n",
              "      <td>1.3</td>\n",
              "      <td>0.2</td>\n",
              "      <td>Iris-setosa</td>\n",
              "    </tr>\n",
              "    <tr>\n",
              "      <th>3</th>\n",
              "      <td>4.6</td>\n",
              "      <td>3.1</td>\n",
              "      <td>1.5</td>\n",
              "      <td>0.2</td>\n",
              "      <td>Iris-setosa</td>\n",
              "    </tr>\n",
              "    <tr>\n",
              "      <th>4</th>\n",
              "      <td>5.0</td>\n",
              "      <td>3.6</td>\n",
              "      <td>1.4</td>\n",
              "      <td>0.2</td>\n",
              "      <td>Iris-setosa</td>\n",
              "    </tr>\n",
              "    <tr>\n",
              "      <th>5</th>\n",
              "      <td>5.4</td>\n",
              "      <td>3.9</td>\n",
              "      <td>1.7</td>\n",
              "      <td>0.4</td>\n",
              "      <td>Iris-setosa</td>\n",
              "    </tr>\n",
              "  </tbody>\n",
              "</table>\n",
              "</div>\n",
              "    <div class=\"colab-df-buttons\">\n",
              "\n",
              "  <div class=\"colab-df-container\">\n",
              "    <button class=\"colab-df-convert\" onclick=\"convertToInteractive('df-ffed9931-4022-45fb-88c3-6d5671f240c1')\"\n",
              "            title=\"Convert this dataframe to an interactive table.\"\n",
              "            style=\"display:none;\">\n",
              "\n",
              "  <svg xmlns=\"http://www.w3.org/2000/svg\" height=\"24px\" viewBox=\"0 -960 960 960\">\n",
              "    <path d=\"M120-120v-720h720v720H120Zm60-500h600v-160H180v160Zm220 220h160v-160H400v160Zm0 220h160v-160H400v160ZM180-400h160v-160H180v160Zm440 0h160v-160H620v160ZM180-180h160v-160H180v160Zm440 0h160v-160H620v160Z\"/>\n",
              "  </svg>\n",
              "    </button>\n",
              "\n",
              "  <style>\n",
              "    .colab-df-container {\n",
              "      display:flex;\n",
              "      gap: 12px;\n",
              "    }\n",
              "\n",
              "    .colab-df-convert {\n",
              "      background-color: #E8F0FE;\n",
              "      border: none;\n",
              "      border-radius: 50%;\n",
              "      cursor: pointer;\n",
              "      display: none;\n",
              "      fill: #1967D2;\n",
              "      height: 32px;\n",
              "      padding: 0 0 0 0;\n",
              "      width: 32px;\n",
              "    }\n",
              "\n",
              "    .colab-df-convert:hover {\n",
              "      background-color: #E2EBFA;\n",
              "      box-shadow: 0px 1px 2px rgba(60, 64, 67, 0.3), 0px 1px 3px 1px rgba(60, 64, 67, 0.15);\n",
              "      fill: #174EA6;\n",
              "    }\n",
              "\n",
              "    .colab-df-buttons div {\n",
              "      margin-bottom: 4px;\n",
              "    }\n",
              "\n",
              "    [theme=dark] .colab-df-convert {\n",
              "      background-color: #3B4455;\n",
              "      fill: #D2E3FC;\n",
              "    }\n",
              "\n",
              "    [theme=dark] .colab-df-convert:hover {\n",
              "      background-color: #434B5C;\n",
              "      box-shadow: 0px 1px 3px 1px rgba(0, 0, 0, 0.15);\n",
              "      filter: drop-shadow(0px 1px 2px rgba(0, 0, 0, 0.3));\n",
              "      fill: #FFFFFF;\n",
              "    }\n",
              "  </style>\n",
              "\n",
              "    <script>\n",
              "      const buttonEl =\n",
              "        document.querySelector('#df-ffed9931-4022-45fb-88c3-6d5671f240c1 button.colab-df-convert');\n",
              "      buttonEl.style.display =\n",
              "        google.colab.kernel.accessAllowed ? 'block' : 'none';\n",
              "\n",
              "      async function convertToInteractive(key) {\n",
              "        const element = document.querySelector('#df-ffed9931-4022-45fb-88c3-6d5671f240c1');\n",
              "        const dataTable =\n",
              "          await google.colab.kernel.invokeFunction('convertToInteractive',\n",
              "                                                    [key], {});\n",
              "        if (!dataTable) return;\n",
              "\n",
              "        const docLinkHtml = 'Like what you see? Visit the ' +\n",
              "          '<a target=\"_blank\" href=https://colab.research.google.com/notebooks/data_table.ipynb>data table notebook</a>'\n",
              "          + ' to learn more about interactive tables.';\n",
              "        element.innerHTML = '';\n",
              "        dataTable['output_type'] = 'display_data';\n",
              "        await google.colab.output.renderOutput(dataTable, element);\n",
              "        const docLink = document.createElement('div');\n",
              "        docLink.innerHTML = docLinkHtml;\n",
              "        element.appendChild(docLink);\n",
              "      }\n",
              "    </script>\n",
              "  </div>\n",
              "\n",
              "\n",
              "<div id=\"df-5eb43af0-5c51-4bd2-8055-e8abd283448a\">\n",
              "  <button class=\"colab-df-quickchart\" onclick=\"quickchart('df-5eb43af0-5c51-4bd2-8055-e8abd283448a')\"\n",
              "            title=\"Suggest charts\"\n",
              "            style=\"display:none;\">\n",
              "\n",
              "<svg xmlns=\"http://www.w3.org/2000/svg\" height=\"24px\"viewBox=\"0 0 24 24\"\n",
              "     width=\"24px\">\n",
              "    <g>\n",
              "        <path d=\"M19 3H5c-1.1 0-2 .9-2 2v14c0 1.1.9 2 2 2h14c1.1 0 2-.9 2-2V5c0-1.1-.9-2-2-2zM9 17H7v-7h2v7zm4 0h-2V7h2v10zm4 0h-2v-4h2v4z\"/>\n",
              "    </g>\n",
              "</svg>\n",
              "  </button>\n",
              "\n",
              "<style>\n",
              "  .colab-df-quickchart {\n",
              "      --bg-color: #E8F0FE;\n",
              "      --fill-color: #1967D2;\n",
              "      --hover-bg-color: #E2EBFA;\n",
              "      --hover-fill-color: #174EA6;\n",
              "      --disabled-fill-color: #AAA;\n",
              "      --disabled-bg-color: #DDD;\n",
              "  }\n",
              "\n",
              "  [theme=dark] .colab-df-quickchart {\n",
              "      --bg-color: #3B4455;\n",
              "      --fill-color: #D2E3FC;\n",
              "      --hover-bg-color: #434B5C;\n",
              "      --hover-fill-color: #FFFFFF;\n",
              "      --disabled-bg-color: #3B4455;\n",
              "      --disabled-fill-color: #666;\n",
              "  }\n",
              "\n",
              "  .colab-df-quickchart {\n",
              "    background-color: var(--bg-color);\n",
              "    border: none;\n",
              "    border-radius: 50%;\n",
              "    cursor: pointer;\n",
              "    display: none;\n",
              "    fill: var(--fill-color);\n",
              "    height: 32px;\n",
              "    padding: 0;\n",
              "    width: 32px;\n",
              "  }\n",
              "\n",
              "  .colab-df-quickchart:hover {\n",
              "    background-color: var(--hover-bg-color);\n",
              "    box-shadow: 0 1px 2px rgba(60, 64, 67, 0.3), 0 1px 3px 1px rgba(60, 64, 67, 0.15);\n",
              "    fill: var(--button-hover-fill-color);\n",
              "  }\n",
              "\n",
              "  .colab-df-quickchart-complete:disabled,\n",
              "  .colab-df-quickchart-complete:disabled:hover {\n",
              "    background-color: var(--disabled-bg-color);\n",
              "    fill: var(--disabled-fill-color);\n",
              "    box-shadow: none;\n",
              "  }\n",
              "\n",
              "  .colab-df-spinner {\n",
              "    border: 2px solid var(--fill-color);\n",
              "    border-color: transparent;\n",
              "    border-bottom-color: var(--fill-color);\n",
              "    animation:\n",
              "      spin 1s steps(1) infinite;\n",
              "  }\n",
              "\n",
              "  @keyframes spin {\n",
              "    0% {\n",
              "      border-color: transparent;\n",
              "      border-bottom-color: var(--fill-color);\n",
              "      border-left-color: var(--fill-color);\n",
              "    }\n",
              "    20% {\n",
              "      border-color: transparent;\n",
              "      border-left-color: var(--fill-color);\n",
              "      border-top-color: var(--fill-color);\n",
              "    }\n",
              "    30% {\n",
              "      border-color: transparent;\n",
              "      border-left-color: var(--fill-color);\n",
              "      border-top-color: var(--fill-color);\n",
              "      border-right-color: var(--fill-color);\n",
              "    }\n",
              "    40% {\n",
              "      border-color: transparent;\n",
              "      border-right-color: var(--fill-color);\n",
              "      border-top-color: var(--fill-color);\n",
              "    }\n",
              "    60% {\n",
              "      border-color: transparent;\n",
              "      border-right-color: var(--fill-color);\n",
              "    }\n",
              "    80% {\n",
              "      border-color: transparent;\n",
              "      border-right-color: var(--fill-color);\n",
              "      border-bottom-color: var(--fill-color);\n",
              "    }\n",
              "    90% {\n",
              "      border-color: transparent;\n",
              "      border-bottom-color: var(--fill-color);\n",
              "    }\n",
              "  }\n",
              "</style>\n",
              "\n",
              "  <script>\n",
              "    async function quickchart(key) {\n",
              "      const quickchartButtonEl =\n",
              "        document.querySelector('#' + key + ' button');\n",
              "      quickchartButtonEl.disabled = true;  // To prevent multiple clicks.\n",
              "      quickchartButtonEl.classList.add('colab-df-spinner');\n",
              "      try {\n",
              "        const charts = await google.colab.kernel.invokeFunction(\n",
              "            'suggestCharts', [key], {});\n",
              "      } catch (error) {\n",
              "        console.error('Error during call to suggestCharts:', error);\n",
              "      }\n",
              "      quickchartButtonEl.classList.remove('colab-df-spinner');\n",
              "      quickchartButtonEl.classList.add('colab-df-quickchart-complete');\n",
              "    }\n",
              "    (() => {\n",
              "      let quickchartButtonEl =\n",
              "        document.querySelector('#df-5eb43af0-5c51-4bd2-8055-e8abd283448a button');\n",
              "      quickchartButtonEl.style.display =\n",
              "        google.colab.kernel.accessAllowed ? 'block' : 'none';\n",
              "    })();\n",
              "  </script>\n",
              "</div>\n",
              "    </div>\n",
              "  </div>\n"
            ]
          },
          "metadata": {},
          "execution_count": 3
        }
      ],
      "source": [
        "df.head(6)"
      ]
    },
    {
      "cell_type": "code",
      "execution_count": 4,
      "id": "acd75c31",
      "metadata": {
        "id": "acd75c31",
        "colab": {
          "base_uri": "https://localhost:8080/"
        },
        "outputId": "fc2d06c4-7374-470a-fc2f-edbe68d5453b"
      },
      "outputs": [
        {
          "output_type": "stream",
          "name": "stdout",
          "text": [
            "<class 'pandas.core.frame.DataFrame'>\n",
            "RangeIndex: 150 entries, 0 to 149\n",
            "Data columns (total 5 columns):\n",
            " #   Column        Non-Null Count  Dtype  \n",
            "---  ------        --------------  -----  \n",
            " 0   sepal_length  150 non-null    float64\n",
            " 1   sepal_width   150 non-null    float64\n",
            " 2   petal_length  150 non-null    float64\n",
            " 3   petal_width   150 non-null    float64\n",
            " 4   species       150 non-null    object \n",
            "dtypes: float64(4), object(1)\n",
            "memory usage: 6.0+ KB\n"
          ]
        }
      ],
      "source": [
        "df.info()"
      ]
    },
    {
      "cell_type": "code",
      "execution_count": 5,
      "id": "c10e0040",
      "metadata": {
        "colab": {
          "base_uri": "https://localhost:8080/"
        },
        "id": "c10e0040",
        "outputId": "1614e6b2-2312-40ca-d38f-39f06d144f37"
      },
      "outputs": [
        {
          "output_type": "execute_result",
          "data": {
            "text/plain": [
              "array(['Iris-setosa', 'Iris-versicolor', 'Iris-virginica'], dtype=object)"
            ]
          },
          "metadata": {},
          "execution_count": 5
        }
      ],
      "source": [
        "df['species'].unique()"
      ]
    },
    {
      "cell_type": "code",
      "execution_count": 6,
      "id": "8ff26b6d",
      "metadata": {
        "id": "8ff26b6d"
      },
      "outputs": [],
      "source": [
        "df['species'] = df['species'].replace({'Iris-setosa':0,\n",
        "                                       'Iris-versicolor':1,\n",
        "                                       'Iris-virginica':2})"
      ]
    },
    {
      "cell_type": "markdown",
      "id": "c6727753",
      "metadata": {
        "id": "c6727753"
      },
      "source": [
        "# Divisão treino-teste"
      ]
    },
    {
      "cell_type": "code",
      "execution_count": 7,
      "id": "9e5f107a",
      "metadata": {
        "id": "9e5f107a"
      },
      "outputs": [],
      "source": [
        "from sklearn.model_selection import train_test_split"
      ]
    },
    {
      "cell_type": "code",
      "execution_count": 8,
      "id": "75d6e9f0",
      "metadata": {
        "id": "75d6e9f0"
      },
      "outputs": [],
      "source": [
        "X = df.drop(columns=['species'])\n",
        "y = df['species']"
      ]
    },
    {
      "cell_type": "code",
      "execution_count": 9,
      "id": "99c7bb1f",
      "metadata": {
        "id": "99c7bb1f"
      },
      "outputs": [],
      "source": [
        "X_train, X_test, y_train, y_test = train_test_split(X, y, test_size=0.33, random_state=42)"
      ]
    },
    {
      "cell_type": "markdown",
      "id": "513a17f9",
      "metadata": {
        "id": "513a17f9"
      },
      "source": [
        "# Padronizando os Dados"
      ]
    },
    {
      "cell_type": "code",
      "execution_count": 10,
      "id": "7e970bd5",
      "metadata": {
        "id": "7e970bd5"
      },
      "outputs": [],
      "source": [
        "from sklearn.preprocessing import StandardScaler"
      ]
    },
    {
      "cell_type": "code",
      "execution_count": 11,
      "id": "97c90165",
      "metadata": {
        "id": "97c90165"
      },
      "outputs": [],
      "source": [
        "scaler = StandardScaler()"
      ]
    },
    {
      "cell_type": "code",
      "execution_count": 12,
      "id": "1c6ca15b",
      "metadata": {
        "id": "1c6ca15b"
      },
      "outputs": [],
      "source": [
        "scaler.fit(X_train)\n",
        "\n",
        "X_train = scaler.transform(X_train)\n",
        "X_test = scaler.transform(X_test)"
      ]
    },
    {
      "cell_type": "markdown",
      "id": "2d196517",
      "metadata": {
        "id": "2d196517"
      },
      "source": [
        "# Rede Neural"
      ]
    },
    {
      "cell_type": "code",
      "execution_count": 13,
      "id": "1e5d411d",
      "metadata": {
        "id": "1e5d411d"
      },
      "outputs": [],
      "source": [
        "model = tf.keras.Sequential([\n",
        "    tf.keras.layers.Dense(6, input_shape=(4,), activation='relu'),\n",
        "    tf.keras.layers.Dense(12, activation='relu'),\n",
        "    tf.keras.layers.Dense(3, activation='softmax')\n",
        "])"
      ]
    },
    {
      "cell_type": "code",
      "execution_count": 14,
      "id": "d3780e5a",
      "metadata": {
        "id": "d3780e5a"
      },
      "outputs": [],
      "source": [
        "model.compile(optimizer=tf.keras.optimizers.Adam(),\n",
        "              loss=tf.keras.losses.SparseCategoricalCrossentropy(),\n",
        "              metrics='accuracy')"
      ]
    },
    {
      "cell_type": "markdown",
      "id": "fdabb46b",
      "metadata": {
        "id": "fdabb46b"
      },
      "source": [
        "# Treino"
      ]
    },
    {
      "cell_type": "code",
      "execution_count": 15,
      "id": "f5e42a66",
      "metadata": {
        "id": "f5e42a66"
      },
      "outputs": [],
      "source": [
        "BATCH_SIZE = 4\n",
        "EPOCHS = 100"
      ]
    },
    {
      "cell_type": "code",
      "execution_count": 16,
      "id": "d4acb3d5",
      "metadata": {
        "id": "d4acb3d5",
        "colab": {
          "base_uri": "https://localhost:8080/"
        },
        "outputId": "552c22d4-50ae-4962-8308-8ca9f8f5cd9d"
      },
      "outputs": [
        {
          "output_type": "stream",
          "name": "stdout",
          "text": [
            "Epoch 1/100\n",
            "25/25 [==============================] - 4s 7ms/step - loss: 1.0113 - accuracy: 0.6400\n",
            "Epoch 2/100\n",
            "25/25 [==============================] - 0s 12ms/step - loss: 0.9522 - accuracy: 0.6500\n",
            "Epoch 3/100\n",
            "25/25 [==============================] - 0s 10ms/step - loss: 0.8881 - accuracy: 0.6500\n",
            "Epoch 4/100\n",
            "25/25 [==============================] - 0s 14ms/step - loss: 0.8225 - accuracy: 0.6600\n",
            "Epoch 5/100\n",
            "25/25 [==============================] - 0s 11ms/step - loss: 0.7539 - accuracy: 0.6600\n",
            "Epoch 6/100\n",
            "25/25 [==============================] - 0s 12ms/step - loss: 0.6897 - accuracy: 0.6600\n",
            "Epoch 7/100\n",
            "25/25 [==============================] - 0s 8ms/step - loss: 0.6331 - accuracy: 0.6600\n",
            "Epoch 8/100\n",
            "25/25 [==============================] - 0s 8ms/step - loss: 0.5869 - accuracy: 0.7000\n",
            "Epoch 9/100\n",
            "25/25 [==============================] - 0s 5ms/step - loss: 0.5495 - accuracy: 0.7400\n",
            "Epoch 10/100\n",
            "25/25 [==============================] - 0s 10ms/step - loss: 0.5162 - accuracy: 0.7800\n",
            "Epoch 11/100\n",
            "25/25 [==============================] - 0s 7ms/step - loss: 0.4868 - accuracy: 0.8300\n",
            "Epoch 12/100\n",
            "25/25 [==============================] - 0s 7ms/step - loss: 0.4605 - accuracy: 0.8400\n",
            "Epoch 13/100\n",
            "25/25 [==============================] - 0s 16ms/step - loss: 0.4342 - accuracy: 0.8500\n",
            "Epoch 14/100\n",
            "25/25 [==============================] - 0s 13ms/step - loss: 0.4067 - accuracy: 0.8600\n",
            "Epoch 15/100\n",
            "25/25 [==============================] - 0s 8ms/step - loss: 0.3810 - accuracy: 0.8700\n",
            "Epoch 16/100\n",
            "25/25 [==============================] - 0s 7ms/step - loss: 0.3577 - accuracy: 0.9000\n",
            "Epoch 17/100\n",
            "25/25 [==============================] - 0s 12ms/step - loss: 0.3363 - accuracy: 0.8900\n",
            "Epoch 18/100\n",
            "25/25 [==============================] - 0s 10ms/step - loss: 0.3216 - accuracy: 0.9000\n",
            "Epoch 19/100\n",
            "25/25 [==============================] - 0s 18ms/step - loss: 0.2999 - accuracy: 0.8900\n",
            "Epoch 20/100\n",
            "25/25 [==============================] - 0s 12ms/step - loss: 0.2878 - accuracy: 0.8900\n",
            "Epoch 21/100\n",
            "25/25 [==============================] - 0s 7ms/step - loss: 0.2747 - accuracy: 0.9000\n",
            "Epoch 22/100\n",
            "25/25 [==============================] - 0s 10ms/step - loss: 0.2607 - accuracy: 0.9000\n",
            "Epoch 23/100\n",
            "25/25 [==============================] - 0s 10ms/step - loss: 0.2484 - accuracy: 0.9000\n",
            "Epoch 24/100\n",
            "25/25 [==============================] - 0s 20ms/step - loss: 0.2405 - accuracy: 0.9100\n",
            "Epoch 25/100\n",
            "25/25 [==============================] - 0s 13ms/step - loss: 0.2300 - accuracy: 0.9000\n",
            "Epoch 26/100\n",
            "25/25 [==============================] - 0s 13ms/step - loss: 0.2233 - accuracy: 0.9000\n",
            "Epoch 27/100\n",
            "25/25 [==============================] - 0s 13ms/step - loss: 0.2140 - accuracy: 0.9200\n",
            "Epoch 28/100\n",
            "25/25 [==============================] - 0s 16ms/step - loss: 0.2071 - accuracy: 0.9300\n",
            "Epoch 29/100\n",
            "25/25 [==============================] - 0s 6ms/step - loss: 0.2014 - accuracy: 0.9200\n",
            "Epoch 30/100\n",
            "25/25 [==============================] - 0s 10ms/step - loss: 0.1956 - accuracy: 0.9200\n",
            "Epoch 31/100\n",
            "25/25 [==============================] - 0s 10ms/step - loss: 0.1892 - accuracy: 0.9200\n",
            "Epoch 32/100\n",
            "25/25 [==============================] - 0s 9ms/step - loss: 0.1834 - accuracy: 0.9200\n",
            "Epoch 33/100\n",
            "25/25 [==============================] - 0s 13ms/step - loss: 0.1774 - accuracy: 0.9300\n",
            "Epoch 34/100\n",
            "25/25 [==============================] - 0s 11ms/step - loss: 0.1721 - accuracy: 0.9300\n",
            "Epoch 35/100\n",
            "25/25 [==============================] - 0s 18ms/step - loss: 0.1668 - accuracy: 0.9400\n",
            "Epoch 36/100\n",
            "25/25 [==============================] - 0s 19ms/step - loss: 0.1630 - accuracy: 0.9400\n",
            "Epoch 37/100\n",
            "25/25 [==============================] - 0s 18ms/step - loss: 0.1575 - accuracy: 0.9400\n",
            "Epoch 38/100\n",
            "25/25 [==============================] - 0s 16ms/step - loss: 0.1541 - accuracy: 0.9400\n",
            "Epoch 39/100\n",
            "25/25 [==============================] - 0s 14ms/step - loss: 0.1493 - accuracy: 0.9400\n",
            "Epoch 40/100\n",
            "25/25 [==============================] - 0s 16ms/step - loss: 0.1457 - accuracy: 0.9400\n",
            "Epoch 41/100\n",
            "25/25 [==============================] - 0s 17ms/step - loss: 0.1416 - accuracy: 0.9400\n",
            "Epoch 42/100\n",
            "25/25 [==============================] - 0s 18ms/step - loss: 0.1404 - accuracy: 0.9400\n",
            "Epoch 43/100\n",
            "25/25 [==============================] - 0s 10ms/step - loss: 0.1347 - accuracy: 0.9500\n",
            "Epoch 44/100\n",
            "25/25 [==============================] - 0s 16ms/step - loss: 0.1323 - accuracy: 0.9500\n",
            "Epoch 45/100\n",
            "25/25 [==============================] - 0s 12ms/step - loss: 0.1289 - accuracy: 0.9400\n",
            "Epoch 46/100\n",
            "25/25 [==============================] - 0s 14ms/step - loss: 0.1250 - accuracy: 0.9500\n",
            "Epoch 47/100\n",
            "25/25 [==============================] - 0s 18ms/step - loss: 0.1219 - accuracy: 0.9400\n",
            "Epoch 48/100\n",
            "25/25 [==============================] - 0s 18ms/step - loss: 0.1192 - accuracy: 0.9400\n",
            "Epoch 49/100\n",
            "25/25 [==============================] - 0s 13ms/step - loss: 0.1186 - accuracy: 0.9600\n",
            "Epoch 50/100\n",
            "25/25 [==============================] - 0s 12ms/step - loss: 0.1143 - accuracy: 0.9500\n",
            "Epoch 51/100\n",
            "25/25 [==============================] - 0s 8ms/step - loss: 0.1129 - accuracy: 0.9400\n",
            "Epoch 52/100\n",
            "25/25 [==============================] - 0s 10ms/step - loss: 0.1096 - accuracy: 0.9400\n",
            "Epoch 53/100\n",
            "25/25 [==============================] - 0s 7ms/step - loss: 0.1092 - accuracy: 0.9500\n",
            "Epoch 54/100\n",
            "25/25 [==============================] - 0s 10ms/step - loss: 0.1056 - accuracy: 0.9700\n",
            "Epoch 55/100\n",
            "25/25 [==============================] - 0s 10ms/step - loss: 0.1039 - accuracy: 0.9700\n",
            "Epoch 56/100\n",
            "25/25 [==============================] - 0s 9ms/step - loss: 0.1032 - accuracy: 0.9600\n",
            "Epoch 57/100\n",
            "25/25 [==============================] - 0s 8ms/step - loss: 0.1003 - accuracy: 0.9700\n",
            "Epoch 58/100\n",
            "25/25 [==============================] - 0s 7ms/step - loss: 0.0992 - accuracy: 0.9600\n",
            "Epoch 59/100\n",
            "25/25 [==============================] - 0s 9ms/step - loss: 0.1001 - accuracy: 0.9700\n",
            "Epoch 60/100\n",
            "25/25 [==============================] - 0s 8ms/step - loss: 0.0949 - accuracy: 0.9700\n",
            "Epoch 61/100\n",
            "25/25 [==============================] - 0s 4ms/step - loss: 0.0934 - accuracy: 0.9600\n",
            "Epoch 62/100\n",
            "25/25 [==============================] - 0s 3ms/step - loss: 0.0926 - accuracy: 0.9700\n",
            "Epoch 63/100\n",
            "25/25 [==============================] - 0s 3ms/step - loss: 0.0921 - accuracy: 0.9600\n",
            "Epoch 64/100\n",
            "25/25 [==============================] - 0s 2ms/step - loss: 0.0894 - accuracy: 0.9600\n",
            "Epoch 65/100\n",
            "25/25 [==============================] - 0s 2ms/step - loss: 0.0908 - accuracy: 0.9600\n",
            "Epoch 66/100\n",
            "25/25 [==============================] - 0s 2ms/step - loss: 0.0862 - accuracy: 0.9600\n",
            "Epoch 67/100\n",
            "25/25 [==============================] - 0s 2ms/step - loss: 0.0865 - accuracy: 0.9600\n",
            "Epoch 68/100\n",
            "25/25 [==============================] - 0s 2ms/step - loss: 0.0858 - accuracy: 0.9700\n",
            "Epoch 69/100\n",
            "25/25 [==============================] - 0s 2ms/step - loss: 0.0849 - accuracy: 0.9600\n",
            "Epoch 70/100\n",
            "25/25 [==============================] - 0s 2ms/step - loss: 0.0824 - accuracy: 0.9600\n",
            "Epoch 71/100\n",
            "25/25 [==============================] - 0s 2ms/step - loss: 0.0820 - accuracy: 0.9600\n",
            "Epoch 72/100\n",
            "25/25 [==============================] - 0s 2ms/step - loss: 0.0811 - accuracy: 0.9600\n",
            "Epoch 73/100\n",
            "25/25 [==============================] - 0s 2ms/step - loss: 0.0796 - accuracy: 0.9600\n",
            "Epoch 74/100\n",
            "25/25 [==============================] - 0s 2ms/step - loss: 0.0781 - accuracy: 0.9600\n",
            "Epoch 75/100\n",
            "25/25 [==============================] - 0s 2ms/step - loss: 0.0781 - accuracy: 0.9600\n",
            "Epoch 76/100\n",
            "25/25 [==============================] - 0s 3ms/step - loss: 0.0782 - accuracy: 0.9600\n",
            "Epoch 77/100\n",
            "25/25 [==============================] - 0s 2ms/step - loss: 0.0758 - accuracy: 0.9600\n",
            "Epoch 78/100\n",
            "25/25 [==============================] - 0s 2ms/step - loss: 0.0753 - accuracy: 0.9700\n",
            "Epoch 79/100\n",
            "25/25 [==============================] - 0s 3ms/step - loss: 0.0752 - accuracy: 0.9600\n",
            "Epoch 80/100\n",
            "25/25 [==============================] - 0s 2ms/step - loss: 0.0735 - accuracy: 0.9600\n",
            "Epoch 81/100\n",
            "25/25 [==============================] - 0s 2ms/step - loss: 0.0722 - accuracy: 0.9700\n",
            "Epoch 82/100\n",
            "25/25 [==============================] - 0s 2ms/step - loss: 0.0722 - accuracy: 0.9700\n",
            "Epoch 83/100\n",
            "25/25 [==============================] - 0s 2ms/step - loss: 0.0724 - accuracy: 0.9700\n",
            "Epoch 84/100\n",
            "25/25 [==============================] - 0s 3ms/step - loss: 0.0711 - accuracy: 0.9600\n",
            "Epoch 85/100\n",
            "25/25 [==============================] - 0s 2ms/step - loss: 0.0716 - accuracy: 0.9700\n",
            "Epoch 86/100\n",
            "25/25 [==============================] - 0s 2ms/step - loss: 0.0688 - accuracy: 0.9700\n",
            "Epoch 87/100\n",
            "25/25 [==============================] - 0s 2ms/step - loss: 0.0695 - accuracy: 0.9700\n",
            "Epoch 88/100\n",
            "25/25 [==============================] - 0s 2ms/step - loss: 0.0675 - accuracy: 0.9700\n",
            "Epoch 89/100\n",
            "25/25 [==============================] - 0s 2ms/step - loss: 0.0673 - accuracy: 0.9700\n",
            "Epoch 90/100\n",
            "25/25 [==============================] - 0s 2ms/step - loss: 0.0674 - accuracy: 0.9700\n",
            "Epoch 91/100\n",
            "25/25 [==============================] - 0s 3ms/step - loss: 0.0663 - accuracy: 0.9700\n",
            "Epoch 92/100\n",
            "25/25 [==============================] - 0s 2ms/step - loss: 0.0664 - accuracy: 0.9700\n",
            "Epoch 93/100\n",
            "25/25 [==============================] - 0s 3ms/step - loss: 0.0674 - accuracy: 0.9700\n",
            "Epoch 94/100\n",
            "25/25 [==============================] - 0s 3ms/step - loss: 0.0649 - accuracy: 0.9600\n",
            "Epoch 95/100\n",
            "25/25 [==============================] - 0s 3ms/step - loss: 0.0655 - accuracy: 0.9700\n",
            "Epoch 96/100\n",
            "25/25 [==============================] - 0s 2ms/step - loss: 0.0643 - accuracy: 0.9700\n",
            "Epoch 97/100\n",
            "25/25 [==============================] - 0s 2ms/step - loss: 0.0640 - accuracy: 0.9700\n",
            "Epoch 98/100\n",
            "25/25 [==============================] - 0s 3ms/step - loss: 0.0653 - accuracy: 0.9800\n",
            "Epoch 99/100\n",
            "25/25 [==============================] - 0s 2ms/step - loss: 0.0675 - accuracy: 0.9700\n",
            "Epoch 100/100\n",
            "25/25 [==============================] - 0s 3ms/step - loss: 0.0608 - accuracy: 0.9800\n"
          ]
        },
        {
          "output_type": "execute_result",
          "data": {
            "text/plain": [
              "<keras.src.callbacks.History at 0x7f75d8335a50>"
            ]
          },
          "metadata": {},
          "execution_count": 16
        }
      ],
      "source": [
        "model.fit(X_train, y_train, batch_size=BATCH_SIZE, epochs=EPOCHS)"
      ]
    },
    {
      "cell_type": "markdown",
      "id": "8626b8cf",
      "metadata": {
        "id": "8626b8cf"
      },
      "source": [
        "# Testando modelo"
      ]
    },
    {
      "cell_type": "code",
      "execution_count": 17,
      "id": "e1641b7b",
      "metadata": {
        "id": "e1641b7b",
        "colab": {
          "base_uri": "https://localhost:8080/"
        },
        "outputId": "eb28e3f3-0d17-4186-e940-1bc77f9915ca"
      },
      "outputs": [
        {
          "output_type": "stream",
          "name": "stdout",
          "text": [
            "2/2 [==============================] - 0s 9ms/step - loss: 0.0552 - accuracy: 0.9800\n"
          ]
        },
        {
          "output_type": "execute_result",
          "data": {
            "text/plain": [
              "[0.05521337687969208, 0.9800000190734863]"
            ]
          },
          "metadata": {},
          "execution_count": 17
        }
      ],
      "source": [
        "model.evaluate(X_test, y_test)"
      ]
    },
    {
      "cell_type": "markdown",
      "id": "664b7a9e",
      "metadata": {
        "id": "664b7a9e"
      },
      "source": [
        "## Obtendo mais métricas"
      ]
    },
    {
      "cell_type": "code",
      "execution_count": 18,
      "id": "51cd3337",
      "metadata": {
        "id": "51cd3337",
        "colab": {
          "base_uri": "https://localhost:8080/"
        },
        "outputId": "d69f7159-1b51-4716-9105-ac752b37896a"
      },
      "outputs": [
        {
          "output_type": "stream",
          "name": "stdout",
          "text": [
            "2/2 [==============================] - 0s 6ms/step\n"
          ]
        }
      ],
      "source": [
        "y_pred = model.predict(X_test)"
      ]
    },
    {
      "cell_type": "code",
      "execution_count": 19,
      "id": "b10c9d0d",
      "metadata": {
        "id": "b10c9d0d"
      },
      "outputs": [],
      "source": [
        "y_pred = [np.argmax(v) for v in y_pred]"
      ]
    },
    {
      "cell_type": "code",
      "execution_count": 20,
      "id": "775687b3",
      "metadata": {
        "id": "775687b3"
      },
      "outputs": [],
      "source": [
        "from sklearn.metrics import classification_report"
      ]
    },
    {
      "cell_type": "code",
      "execution_count": 21,
      "id": "c3412906",
      "metadata": {
        "id": "c3412906",
        "colab": {
          "base_uri": "https://localhost:8080/"
        },
        "outputId": "b3ff7d10-83a9-4f4e-8dea-6b122afd05de"
      },
      "outputs": [
        {
          "output_type": "stream",
          "name": "stdout",
          "text": [
            "              precision    recall  f1-score   support\n",
            "\n",
            "           0       1.00      1.00      1.00        19\n",
            "           1       0.94      1.00      0.97        15\n",
            "           2       1.00      0.94      0.97        16\n",
            "\n",
            "    accuracy                           0.98        50\n",
            "   macro avg       0.98      0.98      0.98        50\n",
            "weighted avg       0.98      0.98      0.98        50\n",
            "\n"
          ]
        }
      ],
      "source": [
        "print(classification_report(y_test,y_pred))"
      ]
    }
  ],
  "metadata": {
    "kernelspec": {
      "display_name": "Python 3",
      "language": "python",
      "name": "python3"
    },
    "language_info": {
      "codemirror_mode": {
        "name": "ipython",
        "version": 3
      },
      "file_extension": ".py",
      "mimetype": "text/x-python",
      "name": "python",
      "nbconvert_exporter": "python",
      "pygments_lexer": "ipython3",
      "version": "3.8.8"
    },
    "colab": {
      "provenance": [],
      "toc_visible": true
    }
  },
  "nbformat": 4,
  "nbformat_minor": 5
}